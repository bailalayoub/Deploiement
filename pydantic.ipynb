{
 "cells": [
  {
   "cell_type": "markdown",
   "metadata": {},
   "source": [
    "Define the data structure using type annotations and offer avenues for data validation and conversion"
   ]
  },
  {
   "cell_type": "code",
   "execution_count": 1,
   "metadata": {},
   "outputs": [
    {
     "name": "stdout",
     "output_type": "stream",
     "text": [
      "Requirement already satisfied: pydantic[email] in c:\\users\\bailal ayoub\\appdata\\local\\programs\\python\\python311\\lib\\site-packages (2.0.3)\n",
      "Requirement already satisfied: annotated-types>=0.4.0 in c:\\users\\bailal ayoub\\appdata\\local\\programs\\python\\python311\\lib\\site-packages (from pydantic[email]) (0.5.0)\n",
      "Requirement already satisfied: pydantic-core==2.3.0 in c:\\users\\bailal ayoub\\appdata\\local\\programs\\python\\python311\\lib\\site-packages (from pydantic[email]) (2.3.0)\n",
      "Requirement already satisfied: typing-extensions>=4.6.1 in c:\\users\\bailal ayoub\\appdata\\local\\programs\\python\\python311\\lib\\site-packages (from pydantic[email]) (4.7.1)\n",
      "Collecting email-validator>=2.0.0 (from pydantic[email])\n",
      "  Downloading email_validator-2.1.1-py3-none-any.whl.metadata (26 kB)\n",
      "Collecting dnspython>=2.0.0 (from email-validator>=2.0.0->pydantic[email])\n",
      "  Downloading dnspython-2.6.1-py3-none-any.whl.metadata (5.8 kB)\n",
      "Requirement already satisfied: idna>=2.0.0 in c:\\users\\bailal ayoub\\appdata\\local\\programs\\python\\python311\\lib\\site-packages (from email-validator>=2.0.0->pydantic[email]) (3.4)\n",
      "Downloading email_validator-2.1.1-py3-none-any.whl (30 kB)\n",
      "Downloading dnspython-2.6.1-py3-none-any.whl (307 kB)\n",
      "   ---------------------------------------- 0.0/307.7 kB ? eta -:--:--\n",
      "   ------------------------- -------------- 194.6/307.7 kB 3.9 MB/s eta 0:00:01\n",
      "   ---------------------------------------- 307.7/307.7 kB 3.8 MB/s eta 0:00:00\n",
      "Installing collected packages: dnspython, email-validator\n",
      "Successfully installed dnspython-2.6.1 email-validator-2.1.1\n"
     ]
    }
   ],
   "source": [
    "!pip install pydantic[email]"
   ]
  },
  {
   "cell_type": "code",
   "execution_count": 15,
   "metadata": {},
   "outputs": [],
   "source": [
    "from typing import List\n",
    "from pydantic import BaseModel, EmailStr, PositiveInt, conlist, Field, HttpUrl\n",
    "\n",
    "class Address(BaseModel):\n",
    "    street: str\n",
    "    city: str\n",
    "    code_postal: str\n",
    "\n",
    "class Employee(BaseModel):\n",
    "    name: str\n",
    "    position: str\n",
    "    email: EmailStr\n",
    "    \n",
    "class Owner(BaseModel):\n",
    "    name: str\n",
    "    email: EmailStr\n",
    "\n",
    "class Entreprise(BaseModel):\n",
    "    name: str = Field(..., pattern=r\"^[a-zA-Z0-9-' ]+$\")\n",
    "    owner: Owner\n",
    "    address: Address\n",
    "    employees: conlist(Employee, min_length=2)\n",
    "    website: HttpUrl"
   ]
  },
  {
   "cell_type": "code",
   "execution_count": 16,
   "metadata": {},
   "outputs": [
    {
     "name": "stdout",
     "output_type": "stream",
     "text": [
      "name='Vision business consulting' owner=Owner(name='Youssef', email='Youssef@vision-business-consulting.com') address=Address(street='105 Bd Abdelmoumen', city='Casablanca', code_postal='20000') employees=[Employee(name='BAILAL Ayoub', position='stagiaire', email='bailalayoub4905@gmail.com'), Employee(name='Mohammed test', position='Manager', email='Mohamed@vision-business-consulting.com')] website=Url('https://vision-business.consulting/fr/accueil/')\n"
     ]
    }
   ],
   "source": [
    "entreprise_instance = Entreprise(\n",
    "    name=\"Vision business consulting\",\n",
    "    owner={\n",
    "        \"name\": \"Youssef\",\n",
    "        \"email\": \"Youssef@vision-business-consulting.com\"\n",
    "    },\n",
    "    address={\n",
    "        \"street\": \"105 Bd Abdelmoumen\",\n",
    "        \"city\": \"Casablanca\",\n",
    "        \"code_postal\": \"20000\",\n",
    "    },\n",
    "    employees=[\n",
    "        {\n",
    "            \"name\": \"BAILAL Ayoub\",\n",
    "            \"position\": \"stagiaire\",\n",
    "            \"email\": \"bailalayoub4905@gmail.com\"\n",
    "        },\n",
    "        {\n",
    "            \"name\": \"Mohammed test\",\n",
    "            \"position\": \"Manager\",\n",
    "            \"email\": \"Mohamed@vision-business-consulting.com\"\n",
    "        }\n",
    "    ],\n",
    "    website=\"https://vision-business.consulting/fr/accueil/\",\n",
    ")\n",
    "\n",
    "# Printing the instance\n",
    "print(entreprise_instance)"
   ]
  },
  {
   "cell_type": "code",
   "execution_count": 3,
   "metadata": {},
   "outputs": [
    {
     "name": "stdout",
     "output_type": "stream",
     "text": [
      "{'name', 'address', 'website', 'employees', 'owner'}\n"
     ]
    }
   ],
   "source": [
    "print(entreprise_instance.model_fields_set)"
   ]
  },
  {
   "cell_type": "code",
   "execution_count": 4,
   "metadata": {},
   "outputs": [
    {
     "name": "stdout",
     "output_type": "stream",
     "text": [
      "{'name': 'Vision business consulting', 'owner': {'name': 'Youssef', 'email': 'Youssef@vision-business-consulting.com'}, 'address': {'street': '105 Bd Abdelmoumen', 'city': 'Casablanca', 'code_postal': 20000}, 'employees': [{'name': 'BAILAL Ayoub', 'position': 'stagiaire', 'email': 'bailalayoub4905@gmail.com'}, {'name': 'Mohammed test', 'position': 'Manager', 'email': 'Mohamed@vision-business-consulting.com'}], 'website': Url('https://vision-business.consulting/fr/accueil/')}\n",
      "{\"name\":\"Vision business consulting\",\"owner\":{\"name\":\"Youssef\",\"email\":\"Youssef@vision-business-consulting.com\"},\"address\":{\"street\":\"105 Bd Abdelmoumen\",\"city\":\"Casablanca\",\"code_postal\":20000},\"employees\":[{\"name\":\"BAILAL Ayoub\",\"position\":\"stagiaire\",\"email\":\"bailalayoub4905@gmail.com\"},{\"name\":\"Mohammed test\",\"position\":\"Manager\",\"email\":\"Mohamed@vision-business-consulting.com\"}],\"website\":\"https://vision-business.consulting/fr/accueil/\"}\n",
      "{'$defs': {'Address': {'properties': {'street': {'title': 'Street', 'type': 'string'}, 'city': {'title': 'City', 'type': 'string'}, 'code_postal': {'title': 'Code Postal', 'type': 'integer'}}, 'required': ['street', 'city', 'code_postal'], 'title': 'Address', 'type': 'object'}, 'Employee': {'properties': {'name': {'title': 'Name', 'type': 'string'}, 'position': {'title': 'Position', 'type': 'string'}, 'email': {'format': 'email', 'title': 'Email', 'type': 'string'}}, 'required': ['name', 'position', 'email'], 'title': 'Employee', 'type': 'object'}, 'Owner': {'properties': {'name': {'title': 'Name', 'type': 'string'}, 'email': {'format': 'email', 'title': 'Email', 'type': 'string'}}, 'required': ['name', 'email'], 'title': 'Owner', 'type': 'object'}}, 'properties': {'name': {'pattern': \"^[a-zA-Z0-9-' ]+$\", 'title': 'Name', 'type': 'string'}, 'owner': {'$ref': '#/$defs/Owner'}, 'address': {'$ref': '#/$defs/Address'}, 'employees': {'items': {'$ref': '#/$defs/Employee'}, 'minItems': 2, 'title': 'Employees', 'type': 'array'}, 'website': {'format': 'uri', 'maxLength': 2083, 'minLength': 1, 'title': 'Website', 'type': 'string'}}, 'required': ['name', 'owner', 'address', 'employees', 'website'], 'title': 'Entreprise', 'type': 'object'}\n"
     ]
    }
   ],
   "source": [
    "print(entreprise_instance.model_dump())\n",
    "print(entreprise_instance.model_dump_json())\n",
    "print(entreprise_instance.model_json_schema())"
   ]
  },
  {
   "cell_type": "markdown",
   "metadata": {},
   "source": [
    "Field validator"
   ]
  },
  {
   "cell_type": "code",
   "execution_count": 5,
   "metadata": {},
   "outputs": [
    {
     "name": "stdout",
     "output_type": "stream",
     "text": [
      "name='Bailal Ayoub' email='bailalayoub4905@gmail.com'\n"
     ]
    }
   ],
   "source": [
    "from pydantic import field_validator\n",
    "\n",
    "class Stagiaire(BaseModel):\n",
    "    name: str\n",
    "    email: EmailStr\n",
    "    \n",
    "    @field_validator('name')\n",
    "    @classmethod\n",
    "    def name_must_contain_space(cls, v: str) -> str:\n",
    "        if ' ' not in v:\n",
    "            raise ValueError('Owner name must contain a space')\n",
    "        return v.title()\n",
    "\n",
    "try:\n",
    "    stagiaire_instance = Stagiaire(name=\"bailal ayoub\", email=\"bailalayoub4905@gmail.com\")\n",
    "except ValueError as e:\n",
    "    print(e)\n",
    "\n",
    "print(stagiaire_instance)"
   ]
  },
  {
   "cell_type": "markdown",
   "metadata": {},
   "source": [
    "Model validation"
   ]
  },
  {
   "cell_type": "code",
   "execution_count": 6,
   "metadata": {},
   "outputs": [
    {
     "name": "stdout",
     "output_type": "stream",
     "text": [
      "1 validation error for Stagiaire\n",
      "  Value error, password should not be included [type=value_error, input_value={'name': 'bailalayoub', '...assword': 'password123'}, input_type=dict]\n",
      "    For further information visit https://errors.pydantic.dev/2.6/v/value_error\n"
     ]
    }
   ],
   "source": [
    "from typing import Any\n",
    "from pydantic import BaseModel, EmailStr, ValidationError, model_validator\n",
    "\n",
    "class Stagiaire(BaseModel):\n",
    "    name: str\n",
    "    email: EmailStr\n",
    "    \n",
    "    @model_validator(mode='before')\n",
    "    @classmethod\n",
    "    def check_sensitive_info_omitted(cls, data: Any) -> Any:\n",
    "        if isinstance(data, dict):\n",
    "            if 'password' in data:\n",
    "                raise ValueError('password should not be included')\n",
    "            if 'card_number' in data:\n",
    "                raise ValueError('card_number should not be included')\n",
    "        return data\n",
    "    \n",
    "    @model_validator(mode='after')\n",
    "    def check_name_contains_space(self) -> 'Stagiaire':\n",
    "        if ' ' not in self.name:\n",
    "            raise ValueError('Stagiaire name must contain a space')\n",
    "        return self\n",
    " \n",
    "try:\n",
    "    stagiaire_instance = Stagiaire(name=\"bailalayoub\", email=\"bailalayoub4905@gmail.com\", password=\"password123\")\n",
    "except ValidationError as e:\n",
    "    print(e) \n"
   ]
  },
  {
   "cell_type": "markdown",
   "metadata": {},
   "source": [
    "Field - Used to customize and add metadata to fields of models"
   ]
  },
  {
   "cell_type": "code",
   "execution_count": 7,
   "metadata": {},
   "outputs": [],
   "source": [
    "from typing import List\n",
    "from pydantic import BaseModel, Field, EmailStr\n",
    "from decimal import Decimal\n",
    "\n",
    "class User(BaseModel):\n",
    "    username: str = Field(..., min_length=3, max_length=10)\n",
    "    email: EmailStr = Field(...)\n",
    "    age: int = Field(..., gt=0, le=120)\n",
    "    height: float = Field(..., gt=0.0)\n",
    "    is_active: bool = Field(True)\n",
    "    favorite_numbers: List[int] = Field(..., min_items=1)"
   ]
  },
  {
   "cell_type": "code",
   "execution_count": 8,
   "metadata": {},
   "outputs": [
    {
     "name": "stdout",
     "output_type": "stream",
     "text": [
      "username='bailal' email='bailalayoub4905@gmail.com' age=23 height=6.1 is_active=True favorite_numbers=[5, 9]\n"
     ]
    }
   ],
   "source": [
    "user_instance = User(\n",
    "    username=\"bailal\",\n",
    "    age=23,\n",
    "    height=6.1,\n",
    "    weight=98.5,\n",
    "    email=\"bailalayoub4905@gmail.com\",\n",
    "    password=\"securepassword\",\n",
    "    favorite_numbers=[5, 9]\n",
    ")\n",
    "\n",
    "print(user_instance)"
   ]
  },
  {
   "cell_type": "markdown",
   "metadata": {},
   "source": [
    "Computed field - strict mode"
   ]
  },
  {
   "cell_type": "code",
   "execution_count": 34,
   "metadata": {},
   "outputs": [
    {
     "name": "stdout",
     "output_type": "stream",
     "text": [
      "1 validation error for Person\n",
      "birth_year\n",
      "  Input should be a valid integer [type=int_type, input_value='2000', input_type=str]\n",
      "    For further information visit https://errors.pydantic.dev/2.6/v/int_type\n"
     ]
    }
   ],
   "source": [
    "from pydantic import BaseModel, ValidationError, field_validator, computed_field\n",
    "from datetime import datetime\n",
    "\n",
    "class Person(BaseModel):\n",
    "    name: str\n",
    "    birth_year: int\n",
    "\n",
    "    @computed_field\n",
    "    @property\n",
    "    def age(self) -> int:\n",
    "        current_year = datetime.now().year\n",
    "        return current_year - self.birth_year\n",
    "\n",
    "    @field_validator('birth_year')\n",
    "    @classmethod\n",
    "    def validate_age(cls, v: int) -> int:\n",
    "        current_year = datetime.now().year\n",
    "        if current_year - v < 18:\n",
    "            raise ValueError('Person must be 18 years or older')\n",
    "        return v\n",
    "\n",
    "try:\n",
    "    print(Person.model_validate({'name' : 'Ayoub', 'birth_year' : '2000'}, strict=True))\n",
    "except ValidationError as e:\n",
    "    print(e)"
   ]
  },
  {
   "cell_type": "markdown",
   "metadata": {},
   "source": [
    "## Pydantic Settings"
   ]
  },
  {
   "cell_type": "code",
   "execution_count": 10,
   "metadata": {},
   "outputs": [
    {
     "name": "stdout",
     "output_type": "stream",
     "text": [
      "Requirement already satisfied: pydantic-settings in c:\\users\\bailal ayoub\\appdata\\local\\programs\\python\\python311\\lib\\site-packages (2.2.1)\n",
      "Requirement already satisfied: pydantic>=2.3.0 in c:\\users\\bailal ayoub\\appdata\\local\\programs\\python\\python311\\lib\\site-packages (from pydantic-settings) (2.6.3)\n",
      "Requirement already satisfied: python-dotenv>=0.21.0 in c:\\users\\bailal ayoub\\appdata\\local\\programs\\python\\python311\\lib\\site-packages (from pydantic-settings) (1.0.1)\n",
      "Requirement already satisfied: annotated-types>=0.4.0 in c:\\users\\bailal ayoub\\appdata\\local\\programs\\python\\python311\\lib\\site-packages (from pydantic>=2.3.0->pydantic-settings) (0.5.0)\n",
      "Requirement already satisfied: pydantic-core==2.16.3 in c:\\users\\bailal ayoub\\appdata\\local\\programs\\python\\python311\\lib\\site-packages (from pydantic>=2.3.0->pydantic-settings) (2.16.3)\n",
      "Requirement already satisfied: typing-extensions>=4.6.1 in c:\\users\\bailal ayoub\\appdata\\local\\programs\\python\\python311\\lib\\site-packages (from pydantic>=2.3.0->pydantic-settings) (4.7.1)\n"
     ]
    }
   ],
   "source": [
    "!pip install pydantic-settings"
   ]
  },
  {
   "cell_type": "code",
   "execution_count": null,
   "metadata": {},
   "outputs": [],
   "source": []
  }
 ],
 "metadata": {
  "kernelspec": {
   "display_name": "Python 3",
   "language": "python",
   "name": "python3"
  },
  "language_info": {
   "codemirror_mode": {
    "name": "ipython",
    "version": 3
   },
   "file_extension": ".py",
   "mimetype": "text/x-python",
   "name": "python",
   "nbconvert_exporter": "python",
   "pygments_lexer": "ipython3",
   "version": "3.11.3"
  }
 },
 "nbformat": 4,
 "nbformat_minor": 2
}
